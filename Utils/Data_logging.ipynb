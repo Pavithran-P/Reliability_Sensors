{
 "cells": [
  {
   "cell_type": "markdown",
   "metadata": {},
   "source": [
    "# Data logging: \n",
    "#### Writes data from jupyter to a .pkl file along with corresponding timestamps"
   ]
  },
  {
   "cell_type": "code",
   "execution_count": 4,
   "metadata": {},
   "outputs": [],
   "source": [
    "from pynq import Overlay\n",
    "from time import sleep\n",
    "from matplotlib import pyplot as plt\n",
    "import pandas as pd\n",
    "from datetime import datetime\n",
    "from pytz import timezone\n",
    "%matplotlib inline"
   ]
  },
  {
   "cell_type": "markdown",
   "metadata": {},
   "source": [
    "## Example for creating timestamp and converting the timezones"
   ]
  },
  {
   "cell_type": "code",
   "execution_count": 27,
   "metadata": {},
   "outputs": [
    {
     "name": "stdout",
     "output_type": "stream",
     "text": [
      "UTC time:       2021-04-26 18:15:50.378651+00:00\n",
      "PST time:       2021-04-26 11:15:50.378651-07:00\n",
      "PST timestamp:  1619460950.378651\n",
      "From timestamp: 2021-04-26 11:15:50.378651-07:00\n"
     ]
    }
   ],
   "source": [
    "# Current time in UTC\n",
    "now_utc = datetime.now(timezone('UTC'))\n",
    "print('UTC time:     ',now_utc)\n",
    "\n",
    "# Convert to US/Pacific time zone\n",
    "now_pacific = now_utc.astimezone(timezone('US/Pacific'))\n",
    "print('PST time:     ',now_pacific)\n",
    "\n",
    "#Create a timestamp\n",
    "now_pacific_timestamp = datetime.timestamp(now_pacific)\n",
    "print('PST timestamp: ',now_pacific_timestamp)\n",
    "\n",
    "#Reading data from timestamp\n",
    "dt_object = datetime.fromtimestamp(now_pacific_timestamp)\n",
    "print('From timestamp:',dt_object.astimezone(timezone('US/Pacific')))\n",
    "\n",
    "#pd.Timestamp(datetime.now())\n",
    "#pd.Timestamp(now_pacific)"
   ]
  },
  {
   "cell_type": "markdown",
   "metadata": {},
   "source": [
    "## Writing to a .pkl file"
   ]
  },
  {
   "cell_type": "code",
   "execution_count": 61,
   "metadata": {},
   "outputs": [
    {
     "name": "stdout",
     "output_type": "stream",
     "text": [
      "Filenames: ['Instname_1_1.pkl', 'Instname_1_2.pkl', 'Instname_3_1.pkl', 'Instname_3_2.pkl', 'Instname_5_1.pkl', 'Instname_5_2.pkl']\n"
     ]
    }
   ],
   "source": [
    "#Create a filename\n",
    "LogNum = [1,2]\n",
    "stages = [1,3,5]\n",
    "#EnFreq = [10, 100, 400] \n",
    "#DutyCycle = [10, 30, 50, 70, 90]\n",
    "Filenames = []        #list if filenames\n",
    "for i in range(len(stages)):\n",
    "    for j in range(len(LogNum)):\n",
    "        Filename = 'Instname_' + str(stages[i]) + '_' + str(LogNum[j]) + '.pkl'\n",
    "        Filenames.append(Filename)\n",
    "\n",
    "print('Filenames:',Filenames)\n",
    "\n",
    "#Write to Filename\n",
    "df = pd.DataFrame({\"Frequency\": range(5), \"Temperature\": range(5,10), \"En_Freq\": range(5),\"Duty_Cycle\": range(5), \"Timestamp\" : now_pacific})\n",
    "df = df[[\"Frequency\", \"Temperature\", \"En_Freq\", \"Duty_Cycle\", \"Timestamp\"]]\n",
    "df.to_pickle(Filenames[1])"
   ]
  },
  {
   "cell_type": "markdown",
   "metadata": {},
   "source": [
    "## Reading from .pkl file"
   ]
  },
  {
   "cell_type": "code",
   "execution_count": 62,
   "metadata": {},
   "outputs": [
    {
     "data": {
      "text/html": [
       "<div>\n",
       "<style scoped>\n",
       "    .dataframe tbody tr th:only-of-type {\n",
       "        vertical-align: middle;\n",
       "    }\n",
       "\n",
       "    .dataframe tbody tr th {\n",
       "        vertical-align: top;\n",
       "    }\n",
       "\n",
       "    .dataframe thead th {\n",
       "        text-align: right;\n",
       "    }\n",
       "</style>\n",
       "<table border=\"1\" class=\"dataframe\">\n",
       "  <thead>\n",
       "    <tr style=\"text-align: right;\">\n",
       "      <th></th>\n",
       "      <th>Frequency</th>\n",
       "      <th>Temperature</th>\n",
       "      <th>En_Freq</th>\n",
       "      <th>Duty_Cycle</th>\n",
       "      <th>Timestamp</th>\n",
       "    </tr>\n",
       "  </thead>\n",
       "  <tbody>\n",
       "    <tr>\n",
       "      <th>0</th>\n",
       "      <td>0</td>\n",
       "      <td>5</td>\n",
       "      <td>0</td>\n",
       "      <td>0</td>\n",
       "      <td>2021-04-26 11:15:50.378651-07:00</td>\n",
       "    </tr>\n",
       "    <tr>\n",
       "      <th>1</th>\n",
       "      <td>1</td>\n",
       "      <td>6</td>\n",
       "      <td>1</td>\n",
       "      <td>1</td>\n",
       "      <td>2021-04-26 11:15:50.378651-07:00</td>\n",
       "    </tr>\n",
       "    <tr>\n",
       "      <th>2</th>\n",
       "      <td>2</td>\n",
       "      <td>7</td>\n",
       "      <td>2</td>\n",
       "      <td>2</td>\n",
       "      <td>2021-04-26 11:15:50.378651-07:00</td>\n",
       "    </tr>\n",
       "    <tr>\n",
       "      <th>3</th>\n",
       "      <td>3</td>\n",
       "      <td>8</td>\n",
       "      <td>3</td>\n",
       "      <td>3</td>\n",
       "      <td>2021-04-26 11:15:50.378651-07:00</td>\n",
       "    </tr>\n",
       "    <tr>\n",
       "      <th>4</th>\n",
       "      <td>4</td>\n",
       "      <td>9</td>\n",
       "      <td>4</td>\n",
       "      <td>4</td>\n",
       "      <td>2021-04-26 11:15:50.378651-07:00</td>\n",
       "    </tr>\n",
       "  </tbody>\n",
       "</table>\n",
       "</div>"
      ],
      "text/plain": [
       "   Frequency  Temperature  En_Freq  Duty_Cycle  \\\n",
       "0          0            5        0           0   \n",
       "1          1            6        1           1   \n",
       "2          2            7        2           2   \n",
       "3          3            8        3           3   \n",
       "4          4            9        4           4   \n",
       "\n",
       "                         Timestamp  \n",
       "0 2021-04-26 11:15:50.378651-07:00  \n",
       "1 2021-04-26 11:15:50.378651-07:00  \n",
       "2 2021-04-26 11:15:50.378651-07:00  \n",
       "3 2021-04-26 11:15:50.378651-07:00  \n",
       "4 2021-04-26 11:15:50.378651-07:00  "
      ]
     },
     "execution_count": 62,
     "metadata": {},
     "output_type": "execute_result"
    }
   ],
   "source": [
    "unpickled_df = pd.read_pickle(Filenames[1])\n",
    "unpickled_df.head()"
   ]
  }
 ],
 "metadata": {
  "kernelspec": {
   "display_name": "Python 3",
   "language": "python",
   "name": "python3"
  },
  "language_info": {
   "codemirror_mode": {
    "name": "ipython",
    "version": 3
   },
   "file_extension": ".py",
   "mimetype": "text/x-python",
   "name": "python",
   "nbconvert_exporter": "python",
   "pygments_lexer": "ipython3",
   "version": "3.6.5"
  }
 },
 "nbformat": 4,
 "nbformat_minor": 2
}
